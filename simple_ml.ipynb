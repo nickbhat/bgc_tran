{
 "cells": [
  {
   "cell_type": "code",
   "execution_count": 39,
   "metadata": {},
   "outputs": [],
   "source": [
    "from typing import Union\n",
    "\n",
    "import matplotlib.pyplot as plt\n",
    "import numpy as np\n",
    "import pandas as pd\n",
    "from sklearn.model_selection import cross_val_score, KFold\n",
    "from sklearn.ensemble import AdaBoostClassifier\n",
    "from sklearn.linear_model import LogisticRegression"
   ]
  },
  {
   "cell_type": "code",
   "execution_count": 2,
   "metadata": {},
   "outputs": [],
   "source": [
    "def load_mibig_data_and_metadata():\n",
    "    LEFTOUT_BGC = 'BGC0001482' # This BGC doesn't have metadata, for some reason.\n",
    "    mibig = pd.read_csv('mibig_table.tsv', sep='\\t')\n",
    "    mibig = mibig.iloc[:, :17]\n",
    "    mibig = mibig[mibig['BGC'] != LEFTOUT_BGC]\n",
    "    \n",
    "    # Initial set of BGCs with Pfam domains\n",
    "    bgc_set = set(mibig['BGC'])\n",
    "    \n",
    "    mibig_cath = pd.read_csv('mibig_cathdb.tsv', sep='\\t')\n",
    "    mibig_cath = mibig_cath.iloc[:, :-1]\n",
    "    # Get set of BGCs from CATH to drop\n",
    "    idx = mibig_cath['BGC'].isin(bgc_set)\n",
    "    mibig_cath = mibig_cath[idx].reset_index(drop=True)\n",
    "    \n",
    "    # Set of BGCs with Pfam _and_ Cath domains\n",
    "    bgc_set = set(mibig_cath['BGC'])\n",
    "    \n",
    "    mibig = mibig[mibig['BGC'].isin(bgc_set)]\n",
    "    \n",
    "    # Load the metadata and filter to ones with transporters\n",
    "    _mibig_meta = pd.read_csv('data_mibig_fixed.tsv', sep='\\t') # Lots of stuff with no transporters present\n",
    "    mibig_meta = _mibig_meta[_mibig_meta['BGC'].isin(bgc_set)].reset_index(drop=True)\n",
    "\n",
    "    # Make sure mibig_meta and mibig_counts_df agree have same index\n",
    "    # There should be a clean pandas way to do this, but shrug\n",
    "\n",
    "    # Create dict with mibig_cath order \n",
    "    int_to_bgc = dict(enumerate(mibig_cath['BGC']))\n",
    "    bgc_to_int = {v: k for k,v in int_to_bgc.items()}\n",
    "    \n",
    "    def sort_df(df: pd.DataFrame) -> pd.DataFrame:\n",
    "        # Now add mibig_order column to df and sort it\n",
    "        df['idx'] = [bgc_to_int[name] for name in df['BGC']]\n",
    "        df = df.sort_values(by='idx', ascending=True)\n",
    "\n",
    "        # Now drop the idx column and reset index\n",
    "        df = df.drop(columns='idx')\n",
    "        df = df.reset_index(drop=True)\n",
    "        \n",
    "        return df\n",
    "    \n",
    "    # Sort pfam and metadata\n",
    "    mibig_meta = sort_df(mibig_meta)\n",
    "    mibig = sort_df(mibig)\n",
    "    \n",
    "    assert list(mibig_meta['BGC']) == list(mibig['BGC']) == list(mibig_cath['BGC']), 'BGC of metadata and counts do not agree. Check ordering.'\n",
    "    \n",
    "    return mibig, mibig_cath, mibig_meta"
   ]
  },
  {
   "cell_type": "markdown",
   "metadata": {},
   "source": [
    "There are incompatibilities between mibig pfam, mibig cath, and mibig meta. We need to be careful how we resolve all of these"
   ]
  },
  {
   "cell_type": "code",
   "execution_count": 3,
   "metadata": {},
   "outputs": [],
   "source": [
    "mibig, mibig_cath, mibig_meta = load_mibig_data_and_metadata()"
   ]
  },
  {
   "cell_type": "markdown",
   "metadata": {},
   "source": [
    "Create some functionality to add or not add hand labels, as desired."
   ]
  },
  {
   "cell_type": "code",
   "execution_count": 4,
   "metadata": {},
   "outputs": [],
   "source": [
    "labels_dict = {}\n",
    "for label_file in ['extra_antibiotics',\n",
    "                   'extra_antifungal',\n",
    "                   'extra_siderophore']:\n",
    "    with open(label_file, 'r') as f:\n",
    "        labels_dict[label_file] = [x.strip() for x in f.readlines()]\n",
    "    \n",
    "# Column name and extra_* file have slightly different names\n",
    "columns = ['Antibacterial', 'Antifungal', 'Siderophore']\n",
    "column_dict = {k:v for k,v in zip(labels_dict.keys(), columns)}"
   ]
  },
  {
   "cell_type": "code",
   "execution_count": 5,
   "metadata": {},
   "outputs": [],
   "source": [
    "def add_hand_labels(input_df: pd.DataFrame,\n",
    "                    labels: Union['antibiotics', 'antifungal', 'siderophore']) -> pd.DataFrame:\n",
    "    \n",
    "    meta_df = input_df.copy(deep=True)\n",
    "    if isinstance(labels, str):\n",
    "        labels = [labels] # Hack for feeding in a single label\n",
    "\n",
    "    # Update desired labels\n",
    "    for label in labels:\n",
    "        label = 'extra_' + label\n",
    "        meta_df.loc[meta_df['Name'].isin(labels_dict[label]), column_dict[label]] = 1\n",
    "    \n",
    "    return meta_df"
   ]
  },
  {
   "cell_type": "markdown",
   "metadata": {},
   "source": [
    "Let's evaluate how many more labels we get with hand labelling vs none"
   ]
  },
  {
   "cell_type": "code",
   "execution_count": 6,
   "metadata": {
    "scrolled": true
   },
   "outputs": [
    {
     "name": "stdout",
     "output_type": "stream",
     "text": [
      "Using only metadata of BGCs with transporters:\n",
      "--------------------------------------------------\n",
      "Number of mibig labelled antibiotics: 121\n",
      "Number of mibig and hand labelled antibiotics: 154\n",
      "Number additional examples: 33\n",
      "--------------------------------------------------\n",
      "Number of mibig labelled antifungal: 27\n",
      "Number of mibig and hand labelled antifungal: 31\n",
      "Number additional examples: 4\n",
      "--------------------------------------------------\n",
      "Number of mibig labelled siderophore: 8\n",
      "Number of mibig and hand labelled siderophore: 44\n",
      "Number additional examples: 36\n",
      "--------------------------------------------------\n"
     ]
    }
   ],
   "source": [
    "print('Using only metadata of BGCs with transporters:')\n",
    "print('-'*50)\n",
    "for label_type in labels_dict.keys():\n",
    "    label = label_type[6:]\n",
    "    column = column_dict[label_type]\n",
    "    orig = np.sum(mibig_meta[column])\n",
    "    new = np.sum(add_hand_labels(mibig_meta, label)[column])\n",
    "    \n",
    "    print(f'Number of mibig labelled {label}: {orig}')\n",
    "    print(f'Number of mibig and hand labelled {label}: {new}')\n",
    "    print(f'Number additional examples: {new - orig}')\n",
    "    print('-'*50)"
   ]
  },
  {
   "cell_type": "markdown",
   "metadata": {},
   "source": [
    "## NOTE\n",
    "\n",
    "Some of the things you labelled don't have transporters at all. If I use `_mibig_meta` instead of `mibig_meta` (the one that hasn't been filtered to have transporters), we get a bigger delta."
   ]
  },
  {
   "cell_type": "code",
   "execution_count": 7,
   "metadata": {},
   "outputs": [
    {
     "name": "stdout",
     "output_type": "stream",
     "text": [
      "Using ALL metadata\n",
      "--------------------------------------------------\n",
      "Number of mibig labelled antibiotics: 176\n",
      "Number of mibig and hand labelled antibiotics: 228\n",
      "Number additional examples: 52\n",
      "--------------------------------------------------\n",
      "Number of mibig labelled antifungal: 61\n",
      "Number of mibig and hand labelled antifungal: 66\n",
      "Number additional examples: 5\n",
      "--------------------------------------------------\n",
      "Number of mibig labelled siderophore: 13\n",
      "Number of mibig and hand labelled siderophore: 60\n",
      "Number additional examples: 47\n",
      "--------------------------------------------------\n"
     ]
    }
   ],
   "source": [
    "_mibig_meta = pd.read_csv('data_mibig_fixed.tsv', sep='\\t')\n",
    "print('Using ALL metadata')\n",
    "print('-'*50)\n",
    "for label_type in labels_dict.keys():\n",
    "    label = label_type[6:]\n",
    "    column = column_dict[label_type]\n",
    "    orig = np.sum(_mibig_meta[column])\n",
    "    new = np.sum(add_hand_labels(_mibig_meta, label)[column])\n",
    "    \n",
    "    print(f'Number of mibig labelled {label}: {orig}')\n",
    "    print(f'Number of mibig and hand labelled {label}: {new}')\n",
    "    print(f'Number additional examples: {new - orig}')\n",
    "    print('-'*50)"
   ]
  },
  {
   "cell_type": "markdown",
   "metadata": {},
   "source": [
    "The only case where we have to class balance is antifungal vs siderophore after hand-labelling. Let's start by doing that."
   ]
  },
  {
   "cell_type": "code",
   "execution_count": 17,
   "metadata": {},
   "outputs": [],
   "source": [
    "df = add_hand_labels(mibig_meta, ['siderophore', 'antifungal'])\n",
    "\n",
    "# Grab indices where at least one label is good\n",
    "idx1 = df['Antifungal'] == 1\n",
    "idx2 = df['Siderophore'] == 1\n",
    "idx = (df['Antifungal'] == 1) | (df['Siderophore'] == 1)\n",
    "\n",
    "# Form X and y using these indices\n",
    "X_pfam = mibig[idx.to_list()].reset_index(drop=True)\n",
    "y = df['Antifungal'][idx.to_list()] - df['Siderophore'][idx.to_list()]\n",
    "\n",
    "# Filter any examples with both labels and unneeded columns\n",
    "nonoverlap_idx = y != 0\n",
    "X_pfam = X_pfam[nonoverlap_idx.to_list()].reset_index(drop=True)\n",
    "X_pfam = X_pfam.iloc[:, 1:]\n",
    "y_pfam = y[nonoverlap_idx.to_list()].reset_index(drop=True)"
   ]
  },
  {
   "cell_type": "code",
   "execution_count": 23,
   "metadata": {},
   "outputs": [
    {
     "data": {
      "text/plain": [
       "array([0.66666667, 0.6       , 0.86666667, 0.5       , 0.64285714])"
      ]
     },
     "execution_count": 23,
     "metadata": {},
     "output_type": "execute_result"
    }
   ],
   "source": [
    "clf = LogisticRegression(C=1, penalty='l1', tol=0.01, solver='saga')\n",
    "scores = cross_val_score(clf, X_pfam, y_pfam, cv=5)\n",
    "scores"
   ]
  },
  {
   "cell_type": "code",
   "execution_count": 25,
   "metadata": {},
   "outputs": [],
   "source": [
    "clf.fit(X_pfam, y_pfam)\n",
    "coef = clf.coef_.ravel()\n",
    "np.mean(coef==0) * 100"
   ]
  },
  {
   "cell_type": "code",
   "execution_count": 10,
   "metadata": {},
   "outputs": [
    {
     "data": {
      "text/plain": [
       "array([0.8       , 0.66666667, 0.93333333, 0.78571429, 0.85714286])"
      ]
     },
     "execution_count": 10,
     "metadata": {},
     "output_type": "execute_result"
    }
   ],
   "source": [
    "clf = AdaBoostClassifier(n_estimators=100)\n",
    "scores = cross_val_score(clf, X_pfam, y_pfam, cv=5)\n",
    "scores"
   ]
  },
  {
   "cell_type": "code",
   "execution_count": 72,
   "metadata": {},
   "outputs": [],
   "source": [
    "df = mibig_meta\n",
    "#df = add_hand_labels(mibig_meta, ['siderophore', 'antifungal'])\n",
    "\n",
    "# Grab indices where at least one label is good\n",
    "idx1 = df['Antifungal'] == 1\n",
    "idx2 = df['Siderophore'] == 1\n",
    "idx = (df['Antifungal'] == 1) | (df['Siderophore'] == 1)\n",
    "\n",
    "# Form X and y using these indices\n",
    "X_cath = mibig_cath[idx.to_list()].reset_index(drop=True)\n",
    "y = df['Antifungal'][idx.to_list()] - df['Siderophore'][idx.to_list()]\n",
    "\n",
    "# Filter any examples with both labels and unneeded columns\n",
    "nonoverlap_idx = y != 0\n",
    "X_cath = X_cath[nonoverlap_idx.to_list()].reset_index(drop=True)\n",
    "X_cath = X_cath.iloc[:, 1:]\n",
    "y_cath = y[nonoverlap_idx.to_list()].reset_index(drop=True)\n",
    "y_cath = np.array(y_cath)"
   ]
  },
  {
   "cell_type": "code",
   "execution_count": 30,
   "metadata": {},
   "outputs": [
    {
     "data": {
      "text/plain": [
       "array([1.        , 0.85714286, 1.        , 0.83333333, 0.83333333])"
      ]
     },
     "execution_count": 30,
     "metadata": {},
     "output_type": "execute_result"
    }
   ],
   "source": [
    "clf = AdaBoostClassifier(n_estimators=100)\n",
    "scores = cross_val_score(clf, X_cath, y_cath, cv=5)\n",
    "scores"
   ]
  },
  {
   "cell_type": "code",
   "execution_count": 61,
   "metadata": {},
   "outputs": [
    {
     "name": "stdout",
     "output_type": "stream",
     "text": [
      "Scores for the five splits are [1.0, 0.5714285714285714, 0.8571428571428571, 0.8333333333333334, 0.8333333333333334] \n",
      "\n",
      "--------------------------------------------------\n",
      "Split 1:\n",
      "97.91 percent of variables unused\n",
      "Variables used ['1.20.1640.10/FF/24538', '2.40.50.100/FF/50279', '1.20.1250.20/FF/180940', '2.40.170.20/FF/26209']\n",
      "--------------------------------------------------\n",
      "Split 2:\n",
      "98.43 percent of variables unused\n",
      "Variables used ['1.20.1640.10/FF/24538', '1.20.1250.20/FF/180940', '3.40.50.300/FF/627204']\n",
      "--------------------------------------------------\n",
      "Split 3:\n",
      "98.43 percent of variables unused\n",
      "Variables used ['1.20.1640.10/FF/24538', '1.20.1250.20/FF/180940', '2.40.170.20/FF/26209']\n",
      "--------------------------------------------------\n",
      "Split 4:\n",
      "98.43 percent of variables unused\n",
      "Variables used ['2.40.50.100/FF/50279', '1.20.1250.20/FF/180940', '2.40.170.20/FF/26209']\n",
      "--------------------------------------------------\n",
      "Split 5:\n",
      "98.43 percent of variables unused\n",
      "Variables used ['1.20.1640.10/FF/24538', '1.20.1250.20/FF/180940', '2.40.170.20/FF/26209']\n"
     ]
    }
   ],
   "source": [
    "scores = []\n",
    "coefs = []\n",
    "\n",
    "kf = KFold(n_splits=5)\n",
    "for train_index, test_index in kf.split(X_cath):\n",
    "    X_train, X_test = X_cath.iloc[train_index], X_cath.iloc[test_index]\n",
    "    y_train, y_test = y_cath.iloc[train_index], y_cath.iloc[test_index]\n",
    "    \n",
    "    clf = LogisticRegression(C=1, penalty='l1', tol=0.01, solver='saga')\n",
    "    clf.fit(X_train, y_train)\n",
    "    scores.append(clf.score(X_test, y_test))\n",
    "    \n",
    "    coef = clf.coef_.ravel()\n",
    "    coefs.append(coef)\n",
    "    \n",
    "print(f'Scores for the five splits are {scores} \\n')\n",
    "for i, c in enumerate(coefs):\n",
    "    print('-'*50)\n",
    "    print(f'Split {i+1}:')\n",
    "    nonzero_idx = c != 0\n",
    "    variables = X_cath.columns[nonzero_idx]\n",
    "    print(f'{round(np.mean(c == 0)*100, 2)} percent of variables unused')\n",
    "    print(f'Variables used {list(variables)}')"
   ]
  },
  {
   "cell_type": "markdown",
   "metadata": {},
   "source": [
    "Direct analysis."
   ]
  },
  {
   "cell_type": "code",
   "execution_count": 74,
   "metadata": {},
   "outputs": [
    {
     "data": {
      "image/png": "[encoded data removed]",
      "text/plain": [
       "<Figure size 432x288 with 1 Axes>"
      ]
     },
     "metadata": {
      "needs_background": "light"
     },
     "output_type": "display_data"
    },
    {
     "data": {
      "image/png": "[encoded data removed]",
      "text/plain": [
       "<Figure size 432x288 with 1 Axes>"
      ]
     },
     "metadata": {
      "needs_background": "light"
     },
     "output_type": "display_data"
    },
    {
     "data": {
      "image/png": "[encoded data removed]",
      "text/plain": [
       "<Figure size 432x288 with 1 Axes>"
      ]
     },
     "metadata": {
      "needs_background": "light"
     },
     "output_type": "display_data"
    }
   ],
   "source": [
    "caths_of_interest = ['2.40.170.20/FF/26209', '1.20.1250.20/FF/180940', '1.20.1640.10/FF/24538']\n",
    "for domain in caths_of_interest:\n",
    "    plt.title(f'Current domain: {domain}')\n",
    "    plt.hist(X_cath[domain][y_cath == 1], label='Antifungal')\n",
    "    plt.hist(X_cath[domain][y_cath == -1], label='Siderophore')\n",
    "    plt.legend()\n",
    "    plt.show()"
   ]
  },
  {
   "cell_type": "markdown",
   "metadata": {},
   "source": [
    "# Questions:\n",
    "\n",
    "1. How many BGCs in MIBIG can we confidently assert are _none_ of 2 or 3 labels? It seems much more useful to have a negative class with some meaning here. "
   ]
  },
  {
   "cell_type": "code",
   "execution_count": 13,
   "metadata": {},
   "outputs": [
    {
     "data": {
      "text/plain": [
       "<matplotlib.colorbar.Colorbar at 0x7f0cde5159e8>"
      ]
     },
     "execution_count": 13,
     "metadata": {},
     "output_type": "execute_result"
    },
    {
     "data": {
      "image/png": "[encoded data removed]",
      "text/plain": [
       "<Figure size 1152x199.037 with 2 Axes>"
      ]
     },
     "metadata": {
      "needs_background": "light"
     },
     "output_type": "display_data"
    }
   ],
   "source": [
    "plt.matshow(X_cath)\n",
    "plt.colorbar()"
   ]
  },
  {
   "cell_type": "code",
   "execution_count": 14,
   "metadata": {},
   "outputs": [
    {
     "data": {
      "text/plain": [
       "<matplotlib.colorbar.Colorbar at 0x7f0cde9dea20>"
      ]
     },
     "execution_count": 14,
     "metadata": {},
     "output_type": "execute_result"
    },
    {
     "data": {
      "image/png": "[encoded data removed]",
      "text/plain": [
       "<Figure size 288x1152 with 2 Axes>"
      ]
     },
     "metadata": {
      "needs_background": "light"
     },
     "output_type": "display_data"
    }
   ],
   "source": [
    "plt.matshow(X_pfam)\n",
    "plt.colorbar()"
   ]
  }
 ],
 "metadata": {
  "kernelspec": {
   "display_name": "Python 3",
   "language": "python",
   "name": "python3"
  },
  "language_info": {
   "codemirror_mode": {
    "name": "ipython",
    "version": 3
   },
   "file_extension": ".py",
   "mimetype": "text/x-python",
   "name": "python",
   "nbconvert_exporter": "python",
   "pygments_lexer": "ipython3",
   "version": "3.6.8"
  }
 },
 "nbformat": 4,
 "nbformat_minor": 2
}
