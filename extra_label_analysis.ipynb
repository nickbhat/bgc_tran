{
 "cells": [
  {
   "cell_type": "code",
   "execution_count": 1,
   "metadata": {},
   "outputs": [],
   "source": [
    "import pandas as pd\n",
    "import numpy as np\n",
    "import matplotlib.pyplot as plt"
   ]
  },
  {
   "cell_type": "markdown",
   "metadata": {},
   "source": [
    "First create a dict with each of the extra label sets."
   ]
  },
  {
   "cell_type": "code",
   "execution_count": 39,
   "metadata": {},
   "outputs": [],
   "source": [
    "labels_dict = {}\n",
    "for label_file in ['extra_antibiotics',\n",
    "                   'extra_antifungal',\n",
    "                   'extra_siderophore']:\n",
    "    with open(label_file, 'r') as f:\n",
    "        labels_dict[label_file] = [x.strip() for x in f.readlines()]"
   ]
  },
  {
   "cell_type": "code",
   "execution_count": 35,
   "metadata": {},
   "outputs": [],
   "source": [
    "metadata = pd.read_csv('data_mibig_fixed.tsv', sep='\\t')"
   ]
  },
  {
   "cell_type": "markdown",
   "metadata": {},
   "source": [
    "I'll now produce a table for each type of label. It'll display the label and how many examples have that label in `data_mibig_fixed.tsv`. "
   ]
  },
  {
   "cell_type": "code",
   "execution_count": 64,
   "metadata": {
    "scrolled": false
   },
   "outputs": [
    {
     "name": "stdout",
     "output_type": "stream",
     "text": [
      "----------------------------------------------------------------------------------------------------\n",
      "Label Type is extra_antibiotics\n",
      "Total number of labels: 37, Total number of examples: 52\n",
      "kanamycin          5\n",
      "neomycin           3\n",
      "streptomycin       3\n",
      "tobramycin         3\n",
      "pyrrolomycin       3\n",
      "salinomycin        2\n",
      "thiolactomycin     2\n",
      "nogalamycin        2\n",
      "uncialamycin       2\n",
      "rifamycin          2\n",
      "saframycin A       1\n",
      "rhodomycin         1\n",
      "meilingmycin       1\n",
      "anthramycin        1\n",
      "apramycin          1\n",
      "lankamycin         1\n",
      "blasticidin        1\n",
      "duramycin          1\n",
      "alnumycin A        1\n",
      "congocidine        1\n",
      "erythromycin       1\n",
      "pyridomycin        1\n",
      "teixobactin        1\n",
      "radamycin          1\n",
      "kasugamycin        1\n",
      "tyrocidine         1\n",
      "mersacidin         1\n",
      "cremeomycin        1\n",
      "gramicidin         1\n",
      "brevicidine        1\n",
      "enduracidin        1\n",
      "streptoseomycin    1\n",
      "daptomycin         1\n",
      "lysobactin         1\n",
      "mycemycin A        1\n",
      "Name: Name, dtype: int64\n",
      "The following labels do not appear in MIBIG metadata: ['cephalosporin']\n",
      "----------------------------------------------------------------------------------------------------\n",
      "Label Type is extra_antifungal\n",
      "Total number of labels: 4, Total number of examples: 5\n",
      "natamycin        2\n",
      "candicidin       1\n",
      "rimocidin        1\n",
      "octacosamicin    1\n",
      "Name: Name, dtype: int64\n",
      "The following labels do not appear in MIBIG metadata: []\n",
      "----------------------------------------------------------------------------------------------------\n",
      "Label Type is extra_siderophore\n",
      "Total number of labels: 48, Total number of examples: 47\n",
      "aerobactin               3\n",
      "ferrichrome              2\n",
      "yersiniabactin           2\n",
      "bacillibactin            2\n",
      "vibrioferrin             2\n",
      "quinolobactin            1\n",
      "erythrochelin            1\n",
      "vibriobactin             1\n",
      "paenibactin              1\n",
      "griseobactin             1\n",
      "turnerbactin             1\n",
      "exochelin                1\n",
      "rhodochelin              1\n",
      "scabichelin              1\n",
      "salinichelins            1\n",
      "equibactin               1\n",
      "pyoverdine               1\n",
      "basidioferrin            1\n",
      "coelichelin              1\n",
      "ornibactin               1\n",
      "mirubactin               1\n",
      "myxochelin A             1\n",
      "qinichelins              1\n",
      "pyochelin                1\n",
      "vanchrobactin            1\n",
      "acinetoferrin            1\n",
      "fuscachelin              1\n",
      "staphylobactin           1\n",
      "amonabactin              1\n",
      "hexadehydroastechrome    1\n",
      "enterobactin             1\n",
      "taiwachelin              1\n",
      "coelibactin              1\n",
      "ochrobactin              1\n",
      "amychelin                1\n",
      "albachelin               1\n",
      "gobichelin               1\n",
      "mycobactin               1\n",
      "xanthoferrin             1\n",
      "vulnibactin              1\n",
      "vicibactin               1\n",
      "Name: Name, dtype: int64\n",
      "The following labels do not appear in MIBIG metadata: ['acinetobactin', 'nocobactin', 'heterobactin']\n"
     ]
    }
   ],
   "source": [
    "for label_type, label_list in labels_dict.items():\n",
    "    print('-'*100)\n",
    "    print(f'Label Type is {label_type}')\n",
    "    idx = x['Name'].isin(label_list)\n",
    "    new_labels = x['Name'][idx]\n",
    "    print(f'Total number of labels: {len(label_list)}, Total number of examples: {len(new_labels)}')\n",
    "    print(new_labels.value_counts())\n",
    "    print(f'The following labels do not appear in MIBIG metadata: {list(set(label_list) - set(new_labels))}')"
   ]
  },
  {
   "cell_type": "markdown",
   "metadata": {},
   "source": [
    "For comparison, here is the count of the fifty most frequent values of the `Name` column."
   ]
  },
  {
   "cell_type": "code",
   "execution_count": 61,
   "metadata": {
    "scrolled": false
   },
   "outputs": [
    {
     "name": "stdout",
     "output_type": "stream",
     "text": [
      "Top Fifty Most Common Values of Name\n"
     ]
    },
    {
     "data": {
      "text/plain": [
       "capsular polysaccharide    30\n",
       "carotenoid                 17\n",
       "O-antigen                  11\n",
       "ectoine                     9\n",
       "lipopolysaccharide          8\n",
       "aflatoxin                   8\n",
       "exopolysaccharide           6\n",
       "melanin                     6\n",
       "kanamycin                   5\n",
       "Myxochromide D              5\n",
       "Myxochromide A              5\n",
       "glycopeptidolipid           5\n",
       "prodigiosin                 4\n",
       "cylindrospermopsin          4\n",
       "1-heptadecene               4\n",
       "epothilone                  4\n",
       "S-layer glycan              3\n",
       "monoterpenes-diterpenes     3\n",
       "pederin                     3\n",
       "mycophenolic acid           3\n",
       "aerobactin                  3\n",
       "rebeccamycin                3\n",
       "eicosapentaenoic acid       3\n",
       "neomycin                    3\n",
       "toyocamycin                 3\n",
       "geldanamycin                3\n",
       "aclacinomycin               3\n",
       "pyrrolomycin                3\n",
       "meridamycin                 3\n",
       "lasalocid                   3\n",
       "tobramycin                  3\n",
       "Myxochromide S              3\n",
       "piericidin A1               3\n",
       "staurosporine               3\n",
       "violacein                   3\n",
       "isorenieratene              3\n",
       "2-methylisoborneol          3\n",
       "cercosporin                 3\n",
       "gentamicin                  3\n",
       "streptomycin                3\n",
       "nivalenol                   2\n",
       "actinonin                   2\n",
       "angolamycin                 2\n",
       "pyoluteorin                 2\n",
       "ferrichrome                 2\n",
       "tilivalline                 2\n",
       "salecan                     2\n",
       "alginate                    2\n",
       "plantazolicin               2\n",
       "ECO-02301                   2\n",
       "Name: Name, dtype: int64"
      ]
     },
     "execution_count": 61,
     "metadata": {},
     "output_type": "execute_result"
    }
   ],
   "source": [
    "print('Top Fifty Most Common Values of Name')\n",
    "metadata['Name'].value_counts()[:50]"
   ]
  },
  {
   "cell_type": "markdown",
   "metadata": {},
   "source": [
    "Observations:\n",
    "\n",
    "- Very sparse labels. Even if we try to predict `Name` as one overall label, most of its values will be too rare to trust any method that claims to predict them. Even the most frequent value of `Name` only occurs in $30/1815$, which is very rare. \n",
    "- Some of the labels don't appear in any of our BGCs. \n",
    "\n",
    "Questions: \n",
    "\n",
    "1. How were these labels assigned to BGCs? E.g. breakdown of what is by-hand vs from some database or another etc. \n",
    "\n",
    "2. Is there any upfront structure we can propose about these labels? I think if we cluster and then fish for similarities, we will always find something. Given that we have lots of labels that appear only once or twice, we should keep any fishing expedition reeled in :)\n",
    "\n",
    "3. Are there any well-established hierarchical groupings of these labels? I'm sure we can make up plausible ones, but if standard ones exist that would be very helpful. Summarizing these molecules in terms of simple things like size could also be an excellent way to try and use this information. I think whatever do it will have to be relatively coarse.\n",
    "\n",
    "If the siderophores or antibiotics have some agreed-upon hierarchical structure (even for a subset of them), seeing if clustering of transport domains recovers that _is_ a reasonable thing imo. But I would be skeptical if we just clustered and justified whatever we found _post-hoc_. If no such hierarchical structure exists, thinking about simple summaries of these molecule classes is another way to coarsen"
   ]
  }
 ],
 "metadata": {
  "kernelspec": {
   "display_name": "Python 3",
   "language": "python",
   "name": "python3"
  },
  "language_info": {
   "codemirror_mode": {
    "name": "ipython",
    "version": 3
   },
   "file_extension": ".py",
   "mimetype": "text/x-python",
   "name": "python",
   "nbconvert_exporter": "python",
   "pygments_lexer": "ipython3",
   "version": "3.6.8"
  }
 },
 "nbformat": 4,
 "nbformat_minor": 2
}
