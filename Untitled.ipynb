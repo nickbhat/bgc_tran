{
 "cells": [
  {
   "cell_type": "code",
   "execution_count": 1,
   "metadata": {},
   "outputs": [],
   "source": [
    "import pandas as pd"
   ]
  },
  {
   "cell_type": "code",
   "execution_count": 2,
   "metadata": {},
   "outputs": [],
   "source": [
    "mibig_metadata = pd.read_csv('/groups/banfield/users/alexcc/song_collaboration/bgc_tran/data/metadata/mibig2_metadata.tsv', sep=\"\\t\")\n",
    "m = mibig_metadata\n",
    "m.loc[m['Type'] == 'lantipeptide', 'Type'] = 'Lanthipeptide'\n",
    "m.loc[m['Type'] == 'Lantipeptide', 'Type'] = 'Lanthipeptide'\n",
    "m.Name = [x.lower() for x in m.Name]\n",
    "f = open('/groups/banfield/users/alexcc/song_collaboration/bgc_tran/data/labels/extra_antibiotics')\n",
    "extra_antibiotics = [x.strip() for x in f.readlines()]\n",
    "f.close()\n",
    "f = open('/groups/banfield/users/alexcc/song_collaboration/bgc_tran/data/labels/extra_antifungal')\n",
    "extra_antifungals = [x.strip() for x in f.readlines()]\n",
    "f.close()\n",
    "f = open('/groups/banfield/users/alexcc/song_collaboration/bgc_tran/data/labels/extra_siderophore')\n",
    "extra_siderophores = [x.strip() for x in f.readlines()]\n",
    "f.close()\n",
    "\n",
    "\n",
    "m.loc[m['Name'].isin(extra_antibiotics), 'Antibacterial'] = 1\n",
    "m.loc[m['Name'].isin(extra_antifungals), 'Antifungal'] = 1\n",
    "m.loc[m['Name'].isin(extra_siderophores), 'Siderophore'] = 1\n",
    "mibig_metadata = m\n"
   ]
  },
  {
   "cell_type": "code",
   "execution_count": 4,
   "metadata": {},
   "outputs": [],
   "source": [
    "mibig_metadata.to_csv('mibig_metadata_for_supp.tsv')"
   ]
  },
  {
   "cell_type": "code",
   "execution_count": 5,
   "metadata": {},
   "outputs": [],
   "source": [
    "mibig_pfam = pd.read_csv('/groups/banfield/users/alexcc/song_collaboration/bgc_tran/data/pfam/mibig_pfam20.tsv', sep=\"\\t\")\n",
    "del mibig_pfam['Order']\n",
    "mibig_sbp = pd.read_csv('/groups/banfield/users/alexcc/song_collaboration/bgc_tran/data/pfam/mibig2_sbp_hits.tsv', sep=\"\\t\")\n",
    "del mibig_sbp['Order']\n",
    "mibig_pfam['ABC2_membrane_3'] = mibig_pfam['ABC2_membrane_3'] + mibig_pfam['ABC2_membrane_3.1']\n",
    "del mibig_pfam['ABC2_membrane_3.1']\n",
    "sbp = pd.read_csv('/groups/banfield/users/alexcc/song_collaboration/bgc_tran/data/pfam/mibig2_sbp_hits.tsv', sep=\"\\t\")\n",
    "del sbp['Order']\n",
    "sbp_all_pfam = mibig_pfam.merge(sbp, on='BGC', how='outer').fillna(0)\n"
   ]
  },
  {
   "cell_type": "code",
   "execution_count": 6,
   "metadata": {},
   "outputs": [],
   "source": [
    "sbp_all_pfam.to_csv('pfams_for_supp.tsv')"
   ]
  },
  {
   "cell_type": "code",
   "execution_count": null,
   "metadata": {},
   "outputs": [],
   "source": []
  }
 ],
 "metadata": {
  "kernelspec": {
   "display_name": "Python 3",
   "language": "python",
   "name": "python3"
  },
  "language_info": {
   "codemirror_mode": {
    "name": "ipython",
    "version": 3
   },
   "file_extension": ".py",
   "mimetype": "text/x-python",
   "name": "python",
   "nbconvert_exporter": "python",
   "pygments_lexer": "ipython3",
   "version": "3.8.2"
  }
 },
 "nbformat": 4,
 "nbformat_minor": 4
}
