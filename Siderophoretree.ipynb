{
 "cells": [
  {
   "cell_type": "code",
   "execution_count": 34,
   "metadata": {},
   "outputs": [],
   "source": [
    "from ete3 import Tree\n",
    "import pandas as pd"
   ]
  },
  {
   "cell_type": "code",
   "execution_count": 35,
   "metadata": {},
   "outputs": [],
   "source": [
    "t_orig = Tree(\"/groups/banfield/users/alexcc/song_collaboration/metagenomic/tree/bac120_r89.tree\", quoted_node_names=True, format=1)\n",
    "leaves = t_orig.get_leaf_names()"
   ]
  },
  {
   "cell_type": "code",
   "execution_count": 28,
   "metadata": {},
   "outputs": [],
   "source": [
    "data = pd.read_csv('/groups/banfield/users/alexcc/song_collaboration/metagenomic/final_table.txt', sep=\"\\t\")"
   ]
  },
  {
   "cell_type": "code",
   "execution_count": 36,
   "metadata": {},
   "outputs": [],
   "source": [
    "## lets get list of one per genus\n",
    "f = open('/groups/banfield/users/alexcc/tcga/dbs/bac120_taxonomy.tsv')\n",
    "\n",
    "fams = set()\n",
    "genomes = set()\n",
    "all_fams = set()\n",
    "genome_to_fam = {}\n",
    "for line in f.readlines():\n",
    "    fam = line.split(\"g__\")[1].split(\";\")[0]\n",
    "    genome = line.split()[0]\n",
    "    genome_to_fam[genome] = fam\n",
    "    all_fams.add(fam)\n",
    "    if genome in leaves:\n",
    "        if fam not in fams:\n",
    "            fams.add(fam)\n",
    "            genomes.add(genome)\n",
    "f.close()"
   ]
  },
  {
   "cell_type": "code",
   "execution_count": 38,
   "metadata": {},
   "outputs": [],
   "source": [
    "t_orig.prune(list(genomes))"
   ]
  },
  {
   "cell_type": "code",
   "execution_count": 39,
   "metadata": {},
   "outputs": [],
   "source": [
    "t = t_orig\n",
    "## add family names to leaves\n",
    "leaves = t.get_leaf_names()\n",
    "for leaf in t.traverse():\n",
    "    if leaf.name in leaves:\n",
    "        leaf.add_features(name=genome_to_fam[leaf.name])    "
   ]
  },
  {
   "cell_type": "code",
   "execution_count": 40,
   "metadata": {},
   "outputs": [],
   "source": [
    "## \n",
    "families = list(data.Taxonomy.unique())\n",
    "families_final = list()\n",
    "for f in families:\n",
    "    if f != 'unk':\n",
    "        families_final.append(f)\n",
    "        \n",
    "t_small = t\n",
    "t_small.prune(families_final)"
   ]
  },
  {
   "cell_type": "code",
   "execution_count": 41,
   "metadata": {},
   "outputs": [],
   "source": [
    "t_small.write(format=1, outfile=\"final_tree_small.nw\")"
   ]
  },
  {
   "cell_type": "code",
   "execution_count": 32,
   "metadata": {},
   "outputs": [
    {
     "data": {
      "text/plain": [
       "Escherichia         588\n",
       "Staphylococcus      279\n",
       "Klebsiella           95\n",
       "Klebsiella_A         72\n",
       "Enterobacter         52\n",
       "Lelliottia           32\n",
       "Citrobacter          30\n",
       "Coprococcus          28\n",
       "Trabulsiella         28\n",
       "Klebsiella_B         27\n",
       "Citrobacter_A        26\n",
       "Pseudomonas          22\n",
       "Proteus              19\n",
       "Tyzzerella           16\n",
       "Pantoea              13\n",
       "Kosakonia            12\n",
       "Acinetobacter         9\n",
       "Serratia              8\n",
       "Aeromonas             8\n",
       "Salmonella            7\n",
       "Cedecea               7\n",
       "Enterobacter_B        7\n",
       "Morganella            6\n",
       "Leclercia             4\n",
       "Pantoea_B             3\n",
       "Erwinia               3\n",
       "Alistipes             3\n",
       "Haemophilus_D         3\n",
       "Pseudescherichia      3\n",
       "Rothia                3\n",
       "Providencia           2\n",
       "Yersinia              2\n",
       "Metakosakonia         2\n",
       "Kluyvera              2\n",
       "Pseudomonas_B         2\n",
       "Fusobacterium         2\n",
       "Plesiomonas           1\n",
       "Lawsonibacter         1\n",
       "Bacteroides           1\n",
       "UC5-1-2E3             1\n",
       "Agathobacter          1\n",
       "Ewingella             1\n",
       "Veillonella           1\n",
       "Fusobacterium_A       1\n",
       "Clostridium_J         1\n",
       "Brenneria_A           1\n",
       "Raoultella            1\n",
       "Pseudomonas_E         1\n",
       "Paenibacillus_B       1\n",
       "Hafnia                1\n",
       "Lactobacillus_C       1\n",
       "Nissabacter           1\n",
       "Enterobacter_D        1\n",
       "Name: Taxonomy, dtype: int64"
      ]
     },
     "execution_count": 32,
     "metadata": {},
     "output_type": "execute_result"
    }
   ],
   "source": [
    "data.Taxonomy.value_counts()"
   ]
  },
  {
   "cell_type": "code",
   "execution_count": 30,
   "metadata": {},
   "outputs": [
    {
     "data": {
      "text/plain": [
       "Staphylococcus      178\n",
       "Escherichia          76\n",
       "Klebsiella_A         36\n",
       "Klebsiella           34\n",
       "Enterobacter         33\n",
       "Citrobacter          18\n",
       "Pseudomonas          17\n",
       "Klebsiella_B         12\n",
       "Lelliottia           11\n",
       "Kosakonia             8\n",
       "Citrobacter_A         8\n",
       "Trabulsiella          7\n",
       "Serratia              7\n",
       "Pantoea               6\n",
       "Aeromonas             5\n",
       "Morganella            4\n",
       "Acinetobacter         4\n",
       "Leclercia             4\n",
       "Pantoea_B             3\n",
       "Cedecea               3\n",
       "Haemophilus_D         3\n",
       "Proteus               3\n",
       "Fusobacterium         2\n",
       "Metakosakonia         2\n",
       "Yersinia              2\n",
       "Rothia                2\n",
       "Pseudomonas_B         2\n",
       "Clostridium_J         1\n",
       "Lactobacillus_C       1\n",
       "Veillonella           1\n",
       "Ewingella             1\n",
       "Pseudescherichia      1\n",
       "Pseudomonas_E         1\n",
       "Hafnia                1\n",
       "Kluyvera              1\n",
       "Plesiomonas           1\n",
       "Erwinia               1\n",
       "Paenibacillus_B       1\n",
       "Providencia           1\n",
       "Brenneria_A           1\n",
       "Name: Taxonomy, dtype: int64"
      ]
     },
     "execution_count": 30,
     "metadata": {},
     "output_type": "execute_result"
    }
   ],
   "source": [
    "data[data[\"Study source\"]=='Infant'].Taxonomy.value_counts()"
   ]
  },
  {
   "cell_type": "code",
   "execution_count": 44,
   "metadata": {},
   "outputs": [
    {
     "data": {
      "text/plain": [
       "75"
      ]
     },
     "execution_count": 44,
     "metadata": {},
     "output_type": "execute_result"
    }
   ],
   "source": [
    "len(data['BiGSCAPE GCF'].unique())"
   ]
  },
  {
   "cell_type": "code",
   "execution_count": 42,
   "metadata": {},
   "outputs": [
    {
     "data": {
      "text/html": [
       "<div>\n",
       "<style scoped>\n",
       "    .dataframe tbody tr th:only-of-type {\n",
       "        vertical-align: middle;\n",
       "    }\n",
       "\n",
       "    .dataframe tbody tr th {\n",
       "        vertical-align: top;\n",
       "    }\n",
       "\n",
       "    .dataframe thead th {\n",
       "        text-align: right;\n",
       "    }\n",
       "</style>\n",
       "<table border=\"1\" class=\"dataframe\">\n",
       "  <thead>\n",
       "    <tr style=\"text-align: right;\">\n",
       "      <th></th>\n",
       "      <th>BGC Name</th>\n",
       "      <th>BiGSCAPE GCF</th>\n",
       "      <th>Genome Name</th>\n",
       "      <th>Taxonomy</th>\n",
       "      <th>BGC Type</th>\n",
       "      <th>Study source</th>\n",
       "      <th>Peripla_BP_2 (Y/N)</th>\n",
       "      <th>FecCD (Y/N)</th>\n",
       "      <th>Tonb_dep_Rec (Y/N)</th>\n",
       "    </tr>\n",
       "  </thead>\n",
       "  <tbody>\n",
       "    <tr>\n",
       "      <th>1097</th>\n",
       "      <td>dasN4_106_000G1_maxbin2.maxbin.007.fasta-c0000...</td>\n",
       "      <td>2845</td>\n",
       "      <td>dasN4_106_000G1_maxbin2.maxbin.007.fasta</td>\n",
       "      <td>Rothia</td>\n",
       "      <td>NRPS</td>\n",
       "      <td>Infant</td>\n",
       "      <td>1</td>\n",
       "      <td>1</td>\n",
       "      <td>0</td>\n",
       "    </tr>\n",
       "    <tr>\n",
       "      <th>1098</th>\n",
       "      <td>ERS473172_3:001</td>\n",
       "      <td>2845</td>\n",
       "      <td>ERS473172_3</td>\n",
       "      <td>Rothia</td>\n",
       "      <td>nrps</td>\n",
       "      <td>Adult</td>\n",
       "      <td>1</td>\n",
       "      <td>1</td>\n",
       "      <td>0</td>\n",
       "    </tr>\n",
       "    <tr>\n",
       "      <th>1099</th>\n",
       "      <td>dasN5_225_000G1_concoct_7-c00009_N5_225_...reg...</td>\n",
       "      <td>2845</td>\n",
       "      <td>dasN5_225_000G1_concoct_7</td>\n",
       "      <td>Rothia</td>\n",
       "      <td>NRPS</td>\n",
       "      <td>Infant</td>\n",
       "      <td>1</td>\n",
       "      <td>1</td>\n",
       "      <td>0</td>\n",
       "    </tr>\n",
       "  </tbody>\n",
       "</table>\n",
       "</div>"
      ],
      "text/plain": [
       "                                               BGC Name  BiGSCAPE GCF  \\\n",
       "1097  dasN4_106_000G1_maxbin2.maxbin.007.fasta-c0000...          2845   \n",
       "1098                                    ERS473172_3:001          2845   \n",
       "1099  dasN5_225_000G1_concoct_7-c00009_N5_225_...reg...          2845   \n",
       "\n",
       "                                   Genome Name Taxonomy BGC Type Study source  \\\n",
       "1097  dasN4_106_000G1_maxbin2.maxbin.007.fasta   Rothia     NRPS       Infant   \n",
       "1098                               ERS473172_3   Rothia     nrps        Adult   \n",
       "1099                 dasN5_225_000G1_concoct_7   Rothia     NRPS       Infant   \n",
       "\n",
       "      Peripla_BP_2 (Y/N)  FecCD (Y/N)  Tonb_dep_Rec (Y/N)  \n",
       "1097                   1            1                   0  \n",
       "1098                   1            1                   0  \n",
       "1099                   1            1                   0  "
      ]
     },
     "execution_count": 42,
     "metadata": {},
     "output_type": "execute_result"
    }
   ],
   "source": [
    "data[data.Taxonomy == 'Rothia']"
   ]
  },
  {
   "cell_type": "code",
   "execution_count": 31,
   "metadata": {},
   "outputs": [
    {
     "data": {
      "text/plain": [
       "Escherichia         512\n",
       "Staphylococcus      101\n",
       "Klebsiella           61\n",
       "Klebsiella_A         36\n",
       "Coprococcus          28\n",
       "Trabulsiella         21\n",
       "Lelliottia           21\n",
       "Enterobacter         19\n",
       "Citrobacter_A        18\n",
       "Proteus              16\n",
       "Tyzzerella           16\n",
       "Klebsiella_B         15\n",
       "Citrobacter          12\n",
       "Salmonella            7\n",
       "Pantoea               7\n",
       "Enterobacter_B        7\n",
       "Acinetobacter         5\n",
       "Pseudomonas           5\n",
       "Kosakonia             4\n",
       "Cedecea               4\n",
       "Aeromonas             3\n",
       "Alistipes             3\n",
       "Erwinia               2\n",
       "Morganella            2\n",
       "Pseudescherichia      2\n",
       "Enterobacter_D        1\n",
       "Raoultella            1\n",
       "UC5-1-2E3             1\n",
       "Agathobacter          1\n",
       "Kluyvera              1\n",
       "Bacteroides           1\n",
       "Serratia              1\n",
       "Lawsonibacter         1\n",
       "Rothia                1\n",
       "Nissabacter           1\n",
       "Providencia           1\n",
       "Fusobacterium_A       1\n",
       "Name: Taxonomy, dtype: int64"
      ]
     },
     "execution_count": 31,
     "metadata": {},
     "output_type": "execute_result"
    }
   ],
   "source": [
    "data[data[\"Study source\"]=='Adult'].Taxonomy.value_counts()"
   ]
  },
  {
   "cell_type": "code",
   "execution_count": null,
   "metadata": {},
   "outputs": [],
   "source": []
  }
 ],
 "metadata": {
  "kernelspec": {
   "display_name": "Python 3",
   "language": "python",
   "name": "python3"
  },
  "language_info": {
   "codemirror_mode": {
    "name": "ipython",
    "version": 3
   },
   "file_extension": ".py",
   "mimetype": "text/x-python",
   "name": "python",
   "nbconvert_exporter": "python",
   "pygments_lexer": "ipython3",
   "version": "3.8.2"
  }
 },
 "nbformat": 4,
 "nbformat_minor": 4
}
