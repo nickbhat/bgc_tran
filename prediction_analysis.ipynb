{
 "cells": [
  {
   "cell_type": "code",
   "execution_count": 1,
   "metadata": {},
   "outputs": [],
   "source": [
    "from data_loading import load_base_data, load_siderophore, load_weight"
   ]
  },
  {
   "cell_type": "code",
   "execution_count": 2,
   "metadata": {},
   "outputs": [],
   "source": [
    "meta, pfam, cath = load_base_data()"
   ]
  },
  {
   "cell_type": "code",
   "execution_count": 3,
   "metadata": {},
   "outputs": [],
   "source": [
    "siderophore = load_siderophore(meta, pfam, cath)"
   ]
  },
  {
   "cell_type": "code",
   "execution_count": 4,
   "metadata": {},
   "outputs": [
    {
     "name": "stderr",
     "output_type": "stream",
     "text": [
      "/home/nickbhat/projects/bgc_tran/data_loading.py:64: UserWarning: Boolean Series key will be reindexed to match DataFrame index.\n",
      "  return fam[fam.BGC.isin(metadata[idx].BGC)]\n"
     ]
    }
   ],
   "source": [
    "weight = load_weight(meta, pfam, cath)"
   ]
  },
  {
   "cell_type": "code",
   "execution_count": 5,
   "metadata": {},
   "outputs": [],
   "source": [
    "import numpy as np"
   ]
  },
  {
   "cell_type": "code",
   "execution_count": 6,
   "metadata": {},
   "outputs": [
    {
     "data": {
      "text/plain": [
       "6771.0"
      ]
     },
     "execution_count": 6,
     "metadata": {},
     "output_type": "execute_result"
    }
   ],
   "source": [
    "np.max(meta.MW)"
   ]
  },
  {
   "cell_type": "code",
   "execution_count": 10,
   "metadata": {},
   "outputs": [
    {
     "data": {
      "text/plain": [
       "BGC                  BGC0001311\n",
       "Genus              Ruminococcus\n",
       "Name                  flavecins\n",
       "Compound_count                1\n",
       "MW                           -1\n",
       "TPSA                        NaN\n",
       "LOGP                        NaN\n",
       "HACC                        NaN\n",
       "HDON                        NaN\n",
       "Type                       RiPP\n",
       "Activities        Antibacterial\n",
       "Structure                   NaN\n",
       "Gram                          1\n",
       "Antibacterial                 1\n",
       "Antifungal                    0\n",
       "Siderophore                   0\n",
       "Orf_length                   20\n",
       "Name: 0, dtype: object"
      ]
     },
     "execution_count": 10,
     "metadata": {},
     "output_type": "execute_result"
    }
   ],
   "source": [
    "meta.iloc[0]"
   ]
  },
  {
   "cell_type": "code",
   "execution_count": 8,
   "metadata": {
    "scrolled": true
   },
   "outputs": [
    {
     "data": {
      "text/plain": [
       "0       NaN\n",
       "1       1.0\n",
       "4       0.0\n",
       "6       1.0\n",
       "8       0.0\n",
       "       ... \n",
       "1857    1.0\n",
       "1860    0.0\n",
       "1861    NaN\n",
       "1862    1.0\n",
       "1863    1.0\n",
       "Name: MW, Length: 1034, dtype: float64"
      ]
     },
     "execution_count": 8,
     "metadata": {},
     "output_type": "execute_result"
    }
   ],
   "source": [
    "weight['cath']['gram+'][1]"
   ]
  }
 ],
 "metadata": {
  "kernelspec": {
   "display_name": "Python 3",
   "language": "python",
   "name": "python3"
  },
  "language_info": {
   "codemirror_mode": {
    "name": "ipython",
    "version": 3
   },
   "file_extension": ".py",
   "mimetype": "text/x-python",
   "name": "python",
   "nbconvert_exporter": "python",
   "pygments_lexer": "ipython3",
   "version": "3.6.8"
  }
 },
 "nbformat": 4,
 "nbformat_minor": 2
}
