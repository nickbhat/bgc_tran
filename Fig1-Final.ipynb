{
 "cells": [
  {
   "cell_type": "code",
   "execution_count": 2,
   "metadata": {},
   "outputs": [],
   "source": [
    "import os\n",
    "import numpy as np\n",
    "import pandas as pd\n",
    "import seaborn as sns\n",
    "from inspect import signature\n",
    "import matplotlib.pyplot as plt\n",
    "from sklearn import tree\n",
    "from sklearn.metrics import precision_recall_curve, average_precision_score\n",
    "from sklearn.model_selection import cross_val_score, KFold\n",
    "from sklearn.linear_model import LogisticRegression\n",
    "from sklearn.metrics import precision_recall_curve, average_precision_score\n",
    "from typing import Dict\n",
    "from matplotlib import cm\n",
    "\n",
    "plt.rcParams['svg.fonttype'] = 'none'\n",
    "plt.rcParams['svg.fonttype'] = 'none'"
   ]
  },
  {
   "cell_type": "code",
   "execution_count": 3,
   "metadata": {},
   "outputs": [
    {
     "name": "stdout",
     "output_type": "stream",
     "text": [
      "(851, 20)\n",
      "(918, 166)\n",
      "(1519, 17)\n",
      "(96, 10)\n",
      "(863, 29)\n",
      "(1345, 100)\n"
     ]
    }
   ],
   "source": [
    "from load_data import load_data\n",
    "mibig_metadata, mibig_pfam, mibig_cathdb, funfams, sbp, sbp_all_pfam, bios = load_data()"
   ]
  },
  {
   "cell_type": "code",
   "execution_count": 4,
   "metadata": {},
   "outputs": [
    {
     "name": "stdout",
     "output_type": "stream",
     "text": [
      "28\n"
     ]
    },
    {
     "data": {
      "text/plain": [
       "0.01809954751131222"
      ]
     },
     "execution_count": 4,
     "metadata": {},
     "output_type": "execute_result"
    }
   ],
   "source": [
    "### What percentage were too big?\n",
    "m = pd.read_csv('/groups/banfield/users/alexcc/song_collaboration/bgc_tran/data/metadata/mibig2_metadata.tsv', sep=\"\\t\")\n",
    "print(m.query(\"Gram == 1 or Gram == 0\").query(\"Orf_length > 60\").shape[0])\n",
    "m.query(\"Gram == 1 or Gram == 0\").query(\"Orf_length > 60\").shape[0] / m.query(\"Gram == 1 or Gram == 0\").shape[0]"
   ]
  },
  {
   "cell_type": "code",
   "execution_count": 5,
   "metadata": {},
   "outputs": [
    {
     "name": "stdout",
     "output_type": "stream",
     "text": [
      "(1042, 17)\n"
     ]
    }
   ],
   "source": [
    "## What number have structures?\n",
    "print(mibig_metadata.query(\"~Structure.isnull()\").shape)"
   ]
  },
  {
   "cell_type": "code",
   "execution_count": 6,
   "metadata": {},
   "outputs": [
    {
     "data": {
      "text/plain": [
       "80"
      ]
     },
     "execution_count": 6,
     "metadata": {},
     "output_type": "execute_result"
    }
   ],
   "source": [
    "## What number of fun fams are specific for 1 TCDB?\n",
    "funfams.query(\"~TCDB.isnull()\").shape[0]"
   ]
  },
  {
   "cell_type": "code",
   "execution_count": 7,
   "metadata": {},
   "outputs": [
    {
     "data": {
      "text/plain": [
       "9.870740305522913"
      ]
     },
     "execution_count": 7,
     "metadata": {},
     "output_type": "execute_result"
    }
   ],
   "source": [
    "## Percentage of BGCs with SBP\n",
    "mibig_pfam[mibig_pfam.BGC.isin(sbp.BGC)].shape[0] / mibig_pfam.shape[0] * 100"
   ]
  },
  {
   "cell_type": "code",
   "execution_count": 8,
   "metadata": {},
   "outputs": [
    {
     "name": "stdout",
     "output_type": "stream",
     "text": [
      "1519\n"
     ]
    },
    {
     "data": {
      "text/plain": [
       "array([[<matplotlib.axes._subplots.AxesSubplot object at 0x7fa119528be0>]],\n",
       "      dtype=object)"
      ]
     },
     "execution_count": 8,
     "metadata": {},
     "output_type": "execute_result"
    },
    {
     "data": {
      "image/png": "[encoded data removed]",
      "text/plain": [
       "<Figure size 432x288 with 1 Axes>"
      ]
     },
     "metadata": {
      "needs_background": "light"
     },
     "output_type": "display_data"
    }
   ],
   "source": [
    "## What number have > 1 structure?\n",
    "print(## What number have > 1 structure?\n",
    "mibig_metadata.query(\"Compound_count >= 1\").shape[0])\n",
    "mibig_metadata.query(\"Compound_count >= 1\").hist(\"Compound_count\")"
   ]
  },
  {
   "cell_type": "code",
   "execution_count": 9,
   "metadata": {},
   "outputs": [
    {
     "name": "stdout",
     "output_type": "stream",
     "text": [
      "56.0% of MiBIG BGCs have a PFAM transporter\n",
      "60.4% of MiBIG BGCs have a CATHDB transporter\n"
     ]
    }
   ],
   "source": [
    "## General breakdowns\n",
    "\n",
    "print(str(round(mibig_pfam.shape[0] / float(mibig_metadata.shape[0]) * 100,1)) + \"% of MiBIG BGCs have a PFAM transporter\")\n",
    "print(str(round(mibig_cathdb.shape[0] / float(mibig_metadata.shape[0]) * 100,1)) + \"% of MiBIG BGCs have a CATHDB transporter\")"
   ]
  },
  {
   "cell_type": "code",
   "execution_count": 10,
   "metadata": {},
   "outputs": [
    {
     "name": "stdout",
     "output_type": "stream",
     "text": [
      "0.705\n",
      "0.4782608695652174\n",
      "0.78\n",
      "0.7070707070707071\n"
     ]
    }
   ],
   "source": [
    "## Transporter % by classification\n",
    "\n",
    "print(mibig_metadata.query(\"Antibacterial == 1 and Siderophore == 0\").BGC.isin(mibig_pfam.BGC).sum() / \\\n",
    "mibig_metadata.query(\"Antibacterial == 1 and Siderophore == 0\").shape[0])\n",
    "\n",
    "print(mibig_metadata.query(\"Antifungal == 1 and Siderophore == 0\").BGC.isin(mibig_pfam.BGC).sum() / \\\n",
    "mibig_metadata.query(\"Antifungal == 1 and Siderophore == 0\").shape[0])\n",
    "\n",
    "\n",
    "print(mibig_metadata.query(\"Siderophore == 1\").BGC.isin(mibig_pfam.BGC).sum() / \\\n",
    "mibig_metadata.query(\"Siderophore == 1\").shape[0])\n",
    "\n",
    "print(mibig_metadata.query(\"~Activities.isnull() and Antibacterial == 0 and Siderophore == 0\").BGC.isin(mibig_pfam.BGC).sum() / \\\n",
    "mibig_metadata.query(\"~Activities.isnull() and Antibacterial == 0 and Antifungal == 0 and Siderophore == 0\").shape[0])\n"
   ]
  },
  {
   "cell_type": "code",
   "execution_count": 23,
   "metadata": {},
   "outputs": [
    {
     "name": "stdout",
     "output_type": "stream",
     "text": [
      "55\n",
      "1\n"
     ]
    },
    {
     "data": {
      "image/png": "[encoded data removed]",
      "text/plain": [
       "<Waffle size 432x288 with 1 Axes>"
      ]
     },
     "metadata": {
      "needs_background": "light"
     },
     "output_type": "display_data"
    }
   ],
   "source": [
    "## Percentage plot\n",
    "import matplotlib.pyplot as plt\n",
    "from pywaffle import Waffle\n",
    "\n",
    "have_both = mibig_metadata[mibig_metadata.BGC.isin(mibig_pfam.BGC) & mibig_metadata.BGC.isin(mibig_cathdb.BGC)]\n",
    "just_pfam = mibig_metadata[mibig_metadata.BGC.isin(mibig_pfam.BGC) & ~mibig_metadata.BGC.isin(mibig_cathdb.BGC)]\n",
    "just_cath = mibig_metadata[~mibig_metadata.BGC.isin(mibig_pfam.BGC) & mibig_metadata.BGC.isin(mibig_cathdb.BGC)]\n",
    "neither = mibig_metadata[~mibig_metadata.BGC.isin(mibig_pfam.BGC) & ~mibig_metadata.BGC.isin(mibig_cathdb.BGC)]\n",
    "\n",
    "both_num = int(round(have_both.shape[0] / float(mibig_metadata.shape[0]) * 100, 0))\n",
    "pfam_num = int(round(just_pfam.shape[0] / float(mibig_metadata.shape[0]) * 100, 0))\n",
    "cath_num = int(round(just_cath.shape[0] / float(mibig_metadata.shape[0]) * 100, 0))\n",
    "neither_num = int(round(neither.shape[0] / float(mibig_metadata.shape[0]) * 100, 0))\n",
    "print(both_num)\n",
    "print(pfam_num)\n",
    "data = {'Both': both_num, 'PFAM': pfam_num, 'CATHDB': cath_num, 'None': neither_num}\n",
    "fig = plt.figure(\n",
    "    FigureClass=Waffle, \n",
    "    rows=5, \n",
    "    values=data, \n",
    "    colors=(\"black\", \"#3485cb\", '#FF0000', \"#CCCCCC\"),\n",
    "    labels=[\"{0} ({1}%)\".format(k, v) for k, v in data.items()],\n",
    "    legend={'loc': 'lower left', 'bbox_to_anchor': (0, -0.4), 'ncol': len(data), 'framealpha': 0}\n",
    ")\n",
    "plt.savefig(\"Fig1c.svg\")\n",
    "plt.show()"
   ]
  },
  {
   "cell_type": "code",
   "execution_count": 18,
   "metadata": {},
   "outputs": [
    {
     "data": {
      "text/plain": [
       "'#FF0000'"
      ]
     },
     "execution_count": 18,
     "metadata": {},
     "output_type": "execute_result"
    }
   ],
   "source": [
    "'#FF0000'"
   ]
  },
  {
   "cell_type": "code",
   "execution_count": 36,
   "metadata": {},
   "outputs": [
    {
     "data": {
      "text/plain": [
       "2.5487661574618095"
      ]
     },
     "execution_count": 36,
     "metadata": {},
     "output_type": "execute_result"
    }
   ],
   "source": [
    "mibig_pfam.sum(axis=1).mean()"
   ]
  },
  {
   "cell_type": "code",
   "execution_count": 24,
   "metadata": {},
   "outputs": [
    {
     "data": {
      "image/png": "[encoded data removed]",
      "text/plain": [
       "<Figure size 432x288 with 1 Axes>"
      ]
     },
     "metadata": {
      "needs_background": "light"
     },
     "output_type": "display_data"
    }
   ],
   "source": [
    "transporter_counts = mibig_pfam[mibig_pfam.columns[1:-1]].sum(axis=1)\n",
    "\n",
    "bins = np.arange(1, transporter_counts.max() + 1.5) - 0.5\n",
    "fig, ax = plt.subplots()\n",
    "ax.set_xticks(bins + 0.5)\n",
    "\n",
    "transporter_counts.hist(bins=bins)\n",
    "# plt.axis([1,18])\n",
    "plt.grid(False)\n",
    "plt.savefig(\"Fig1d.svg\")\n",
    "plt.show()"
   ]
  },
  {
   "cell_type": "code",
   "execution_count": 25,
   "metadata": {},
   "outputs": [
    {
     "data": {
      "image/png": "[encoded data removed]",
      "text/plain": [
       "<Figure size 432x288 with 1 Axes>"
      ]
     },
     "metadata": {
      "needs_background": "light"
     },
     "output_type": "display_data"
    }
   ],
   "source": [
    "## General plot\n",
    "total_abund = mibig_pfam.astype(bool).sum()[1:-1]\n",
    "total_abund.plot.bar()\n",
    "# plt.ylim(0,1)\n",
    "plt.yscale('log')\n",
    "plt.savefig(\"Fig1b.svg\")\n",
    "\n",
    "plt.show()\n"
   ]
  },
  {
   "cell_type": "code",
   "execution_count": 18,
   "metadata": {},
   "outputs": [],
   "source": [
    "### Some key statistics\n"
   ]
  },
  {
   "cell_type": "code",
   "execution_count": 81,
   "metadata": {},
   "outputs": [
    {
     "data": {
      "text/plain": [
       "BGC                BGC0000001BGC0000002BGC0000019BGC0000020BGC000...\n",
       "ABC_tran                                                         753\n",
       "BPD_transp_1                                                      81\n",
       "TonB_dep_Rec                                                      36\n",
       "ABC_membrane                                                     274\n",
       "ACR_tran                                                          10\n",
       "FecCD                                                             44\n",
       "ABC2_membrane                                                     98\n",
       "MatE                                                              58\n",
       "OEP                                                               44\n",
       "FtsX                                                              78\n",
       "MFS_3                                                             37\n",
       "MFS_1                                                            444\n",
       "ABC2_membrane_2                                                    7\n",
       "ABC2_membrane_3                                                   48\n",
       "MacB_PCD                                                          49\n",
       "ABC2_membrane_4                                                   43\n",
       "MMPL                                                              46\n",
       "BPD_transp_2                                                      14\n",
       "Multi_Drug_Res                                                     5\n",
       "dtype: object"
      ]
     },
     "execution_count": 81,
     "metadata": {},
     "output_type": "execute_result"
    }
   ],
   "source": [
    "mibig_pfam.sum()"
   ]
  }
 ],
 "metadata": {
  "kernelspec": {
   "display_name": "Python 3",
   "language": "python",
   "name": "python3"
  },
  "language_info": {
   "codemirror_mode": {
    "name": "ipython",
    "version": 3
   },
   "file_extension": ".py",
   "mimetype": "text/x-python",
   "name": "python",
   "nbconvert_exporter": "python",
   "pygments_lexer": "ipython3",
   "version": "3.8.2"
  }
 },
 "nbformat": 4,
 "nbformat_minor": 4
}
