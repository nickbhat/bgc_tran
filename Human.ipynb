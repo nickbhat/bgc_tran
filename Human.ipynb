{
 "cells": [
  {
   "cell_type": "code",
   "execution_count": 1,
   "metadata": {},
   "outputs": [],
   "source": [
    "import pandas as pd"
   ]
  },
  {
   "cell_type": "code",
   "execution_count": 4,
   "metadata": {},
   "outputs": [],
   "source": [
    "taxa = pd.read_table('/groups/banfield/users/alexcc/adult_gut_mags/genome_taxonomy.txt', sep=\"\\t\")"
   ]
  },
  {
   "cell_type": "code",
   "execution_count": 5,
   "metadata": {},
   "outputs": [
    {
     "data": {
      "text/html": [
       "<div>\n",
       "<style scoped>\n",
       "    .dataframe tbody tr th:only-of-type {\n",
       "        vertical-align: middle;\n",
       "    }\n",
       "\n",
       "    .dataframe tbody tr th {\n",
       "        vertical-align: top;\n",
       "    }\n",
       "\n",
       "    .dataframe thead th {\n",
       "        text-align: right;\n",
       "    }\n",
       "</style>\n",
       "<table border=\"1\" class=\"dataframe\">\n",
       "  <thead>\n",
       "    <tr style=\"text-align: right;\">\n",
       "      <th></th>\n",
       "      <th>Genome</th>\n",
       "      <th>Family</th>\n",
       "    </tr>\n",
       "  </thead>\n",
       "  <tbody>\n",
       "    <tr>\n",
       "      <th>0</th>\n",
       "      <td>ERS235507</td>\n",
       "      <td>Akkermansiaceae</td>\n",
       "    </tr>\n",
       "    <tr>\n",
       "      <th>1</th>\n",
       "      <td>ERS235513</td>\n",
       "      <td>Lachnospiraceae</td>\n",
       "    </tr>\n",
       "    <tr>\n",
       "      <th>2</th>\n",
       "      <td>ERS235517</td>\n",
       "      <td>Streptococcaceae</td>\n",
       "    </tr>\n",
       "    <tr>\n",
       "      <th>3</th>\n",
       "      <td>ERS235533</td>\n",
       "      <td>Lachnospiraceae</td>\n",
       "    </tr>\n",
       "    <tr>\n",
       "      <th>4</th>\n",
       "      <td>ERS235544</td>\n",
       "      <td>Dialisteraceae</td>\n",
       "    </tr>\n",
       "  </tbody>\n",
       "</table>\n",
       "</div>"
      ],
      "text/plain": [
       "      Genome            Family\n",
       "0  ERS235507   Akkermansiaceae\n",
       "1  ERS235513   Lachnospiraceae\n",
       "2  ERS235517  Streptococcaceae\n",
       "3  ERS235533   Lachnospiraceae\n",
       "4  ERS235544    Dialisteraceae"
      ]
     },
     "execution_count": 5,
     "metadata": {},
     "output_type": "execute_result"
    }
   ],
   "source": [
    "taxa.head()"
   ]
  },
  {
   "cell_type": "code",
   "execution_count": 12,
   "metadata": {},
   "outputs": [],
   "source": [
    "top = taxa['Family'].value_counts()[taxa['Family'].value_counts() >= 5]"
   ]
  },
  {
   "cell_type": "code",
   "execution_count": 15,
   "metadata": {},
   "outputs": [
    {
     "data": {
      "text/html": [
       "<div>\n",
       "<style scoped>\n",
       "    .dataframe tbody tr th:only-of-type {\n",
       "        vertical-align: middle;\n",
       "    }\n",
       "\n",
       "    .dataframe tbody tr th {\n",
       "        vertical-align: top;\n",
       "    }\n",
       "\n",
       "    .dataframe thead th {\n",
       "        text-align: right;\n",
       "    }\n",
       "</style>\n",
       "<table border=\"1\" class=\"dataframe\">\n",
       "  <thead>\n",
       "    <tr style=\"text-align: right;\">\n",
       "      <th></th>\n",
       "      <th>Genome</th>\n",
       "      <th>Family</th>\n",
       "    </tr>\n",
       "  </thead>\n",
       "  <tbody>\n",
       "    <tr>\n",
       "      <th>0</th>\n",
       "      <td>ERS235507</td>\n",
       "      <td>Akkermansiaceae</td>\n",
       "    </tr>\n",
       "    <tr>\n",
       "      <th>1</th>\n",
       "      <td>ERS235513</td>\n",
       "      <td>Lachnospiraceae</td>\n",
       "    </tr>\n",
       "    <tr>\n",
       "      <th>2</th>\n",
       "      <td>ERS235517</td>\n",
       "      <td>Streptococcaceae</td>\n",
       "    </tr>\n",
       "    <tr>\n",
       "      <th>3</th>\n",
       "      <td>ERS235533</td>\n",
       "      <td>Lachnospiraceae</td>\n",
       "    </tr>\n",
       "    <tr>\n",
       "      <th>4</th>\n",
       "      <td>ERS235544</td>\n",
       "      <td>Dialisteraceae</td>\n",
       "    </tr>\n",
       "    <tr>\n",
       "      <th>...</th>\n",
       "      <td>...</td>\n",
       "      <td>...</td>\n",
       "    </tr>\n",
       "    <tr>\n",
       "      <th>768</th>\n",
       "      <td>SRS476832</td>\n",
       "      <td>Lachnospiraceae</td>\n",
       "    </tr>\n",
       "    <tr>\n",
       "      <th>769</th>\n",
       "      <td>SRS820572</td>\n",
       "      <td>Succinivibrionaceae</td>\n",
       "    </tr>\n",
       "    <tr>\n",
       "      <th>770</th>\n",
       "      <td>SRS820587</td>\n",
       "      <td>CAG-302</td>\n",
       "    </tr>\n",
       "    <tr>\n",
       "      <th>771</th>\n",
       "      <td>SRS882242</td>\n",
       "      <td>Elusimicrobiaceae</td>\n",
       "    </tr>\n",
       "    <tr>\n",
       "      <th>772</th>\n",
       "      <td>SRS882244</td>\n",
       "      <td>Enterobacteriaceae</td>\n",
       "    </tr>\n",
       "  </tbody>\n",
       "</table>\n",
       "<p>773 rows × 2 columns</p>\n",
       "</div>"
      ],
      "text/plain": [
       "        Genome               Family\n",
       "0    ERS235507      Akkermansiaceae\n",
       "1    ERS235513      Lachnospiraceae\n",
       "2    ERS235517     Streptococcaceae\n",
       "3    ERS235533      Lachnospiraceae\n",
       "4    ERS235544       Dialisteraceae\n",
       "..         ...                  ...\n",
       "768  SRS476832      Lachnospiraceae\n",
       "769  SRS820572  Succinivibrionaceae\n",
       "770  SRS820587              CAG-302\n",
       "771  SRS882242    Elusimicrobiaceae\n",
       "772  SRS882244   Enterobacteriaceae\n",
       "\n",
       "[773 rows x 2 columns]"
      ]
     },
     "execution_count": 15,
     "metadata": {},
     "output_type": "execute_result"
    }
   ],
   "source": [
    "taxa"
   ]
  },
  {
   "cell_type": "code",
   "execution_count": 17,
   "metadata": {},
   "outputs": [
    {
     "data": {
      "text/plain": [
       "Enterobacteriaceae           268\n",
       "Lachnospiraceae               87\n",
       "Bacteroidaceae                56\n",
       "Bifidobacteriaceae            54\n",
       "Staphylococcaceae             38\n",
       "Enterococcaceae               36\n",
       "Acutalibacteraceae            28\n",
       "Ruminococcaceae               19\n",
       "Streptococcaceae              17\n",
       "Tannerellaceae                14\n",
       "Veillonellaceae               14\n",
       "Lactobacillaceae              13\n",
       "Rikenellaceae                 12\n",
       "Akkermansiaceae                9\n",
       "Acidaminococcaceae             8\n",
       "Clostridiaceae                 7\n",
       "Burkholderiaceae               6\n",
       "Oscillospiraceae               6\n",
       "Pasteurellaceae                6\n",
       "UBA1381                        5\n",
       "Coriobacteriaceae              5\n",
       "Erysipelatoclostridiaceae      5\n",
       "Name: Family, dtype: int64"
      ]
     },
     "execution_count": 17,
     "metadata": {},
     "output_type": "execute_result"
    }
   ],
   "source": [
    "top"
   ]
  },
  {
   "cell_type": "code",
   "execution_count": 13,
   "metadata": {},
   "outputs": [
    {
     "data": {
      "text/plain": [
       "<matplotlib.axes._subplots.AxesSubplot at 0x7f96c1e34b50>"
      ]
     },
     "execution_count": 13,
     "metadata": {},
     "output_type": "execute_result"
    },
    {
     "data": {
      "image/png": "[encoded data removed]",
      "text/plain": [
       "<Figure size 432x288 with 1 Axes>"
      ]
     },
     "metadata": {
      "needs_background": "light"
     },
     "output_type": "display_data"
    }
   ],
   "source": [
    "import matplotlib.pyplot as plt\n",
    "\n",
    "plt.figure()\n",
    "top.plot.barh()"
   ]
  },
  {
   "cell_type": "code",
   "execution_count": null,
   "metadata": {},
   "outputs": [],
   "source": []
  }
 ],
 "metadata": {
  "kernelspec": {
   "display_name": "Python 3",
   "language": "python",
   "name": "python3"
  },
  "language_info": {
   "codemirror_mode": {
    "name": "ipython",
    "version": 3
   },
   "file_extension": ".py",
   "mimetype": "text/x-python",
   "name": "python",
   "nbconvert_exporter": "python",
   "pygments_lexer": "ipython3",
   "version": "3.8.2"
  }
 },
 "nbformat": 4,
 "nbformat_minor": 4
}
